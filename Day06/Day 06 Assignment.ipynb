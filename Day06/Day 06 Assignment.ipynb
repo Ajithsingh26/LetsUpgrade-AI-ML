{
 "cells": [
  {
   "cell_type": "markdown",
   "metadata": {},
   "source": [
    "# Day 06 Assignment\n",
    "---\n",
    "# Question 1\n",
    "\n",
    "Assuming that we have some email addresses in the \"username@companyname.com\" format, please write program\n",
    "to print the company name of a given email address. Both user names and company names are composed of letters\n",
    "only.\n"
   ]
  },
  {
   "cell_type": "code",
   "execution_count": 86,
   "metadata": {},
   "outputs": [
    {
     "name": "stdout",
     "output_type": "stream",
     "text": [
      "Enter the email address in the format 'username@companyname.com': junaid@uber.com\n",
      "The company name is:  Uber\n"
     ]
    }
   ],
   "source": [
    "st = input(\"Enter the email address in the format 'username@companyname.com': \" ).split(\"@\")\n",
    "print(\"The company name is: \", st[1][:-4].title())"
   ]
  },
  {
   "cell_type": "markdown",
   "metadata": {},
   "source": [
    "---\n",
    "# Question 2\n",
    "Write a program that accepts a comma-separated sequence of words as input and prints the words in a comma\n",
    "separated sequence after sorting them alphabetically"
   ]
  },
  {
   "cell_type": "code",
   "execution_count": 81,
   "metadata": {},
   "outputs": [
    {
     "name": "stdout",
     "output_type": "stream",
     "text": [
      "Enter a comma-separated sequence of words: without,hello,bag,world\n",
      "\n",
      "Sorted words in a a comma-separated sequence:  bag,hello,without,world\n"
     ]
    }
   ],
   "source": [
    "inp = sorted(input(\"Enter a comma-separated sequence of words: \").split(\",\"))\n",
    "print(\"\\nSorted words in a a comma-separated sequence: \", \",\".join(inp))"
   ]
  },
  {
   "cell_type": "markdown",
   "metadata": {},
   "source": [
    "---\n",
    "# Question 4\n",
    "Given a list of n-1 numbers ranging from 1 to n, your task is to find the missing number. There are no duplicates.\n"
   ]
  },
  {
   "cell_type": "code",
   "execution_count": 80,
   "metadata": {},
   "outputs": [
    {
     "name": "stdout",
     "output_type": "stream",
     "text": [
      "Enter a list with elements separated by a space: 1 2 4\n",
      "\n",
      "\n",
      "The missing number is:  3\n"
     ]
    }
   ],
   "source": [
    "import functools\n",
    "from functools import reduce\n",
    "\n",
    "input_str = input(\"Enter a list with elements separated by a space: \").split()\n",
    "print(\"\\n\")\n",
    "\n",
    "user_list = list(map(int, input_str))\n",
    "\n",
    "n = max(user_list)\n",
    "\n",
    "sum_n = n * (n + 1) / 2 #gives us the sum of first n natural numbers\n",
    "sum_list = reduce(lambda a, b: a + b, user_list) #gives the sum of numbers in the given list\n",
    "\n",
    "missing_num = sum_n - sum_list\n",
    "print(\"The missing number is: \", int(missing_num))"
   ]
  },
  {
   "cell_type": "markdown",
   "metadata": {},
   "source": [
    "# Question 5\n",
    "With a given list L, write a program to print this list L after removing all duplicate values with original order reserved."
   ]
  },
  {
   "cell_type": "code",
   "execution_count": 76,
   "metadata": {},
   "outputs": [
    {
     "name": "stdout",
     "output_type": "stream",
     "text": [
      "Enter a list with elements separated by a space: 12 24 35 24 88 120 155 88 120 155\n",
      "12 24 35 88 120 155 "
     ]
    }
   ],
   "source": [
    "input_list = input(\"Enter a list with elements separated by a space: \").split()\n",
    "user_list1 = sorted(set((list(map(int, input_list)))))\n",
    "for x in user_list1:\n",
    "    print(x, end = \" \")"
   ]
  }
 ],
 "metadata": {
  "kernelspec": {
   "display_name": "Python 3",
   "language": "python",
   "name": "python3"
  },
  "language_info": {
   "codemirror_mode": {
    "name": "ipython",
    "version": 3
   },
   "file_extension": ".py",
   "mimetype": "text/x-python",
   "name": "python",
   "nbconvert_exporter": "python",
   "pygments_lexer": "ipython3",
   "version": "3.7.6"
  }
 },
 "nbformat": 4,
 "nbformat_minor": 4
}
