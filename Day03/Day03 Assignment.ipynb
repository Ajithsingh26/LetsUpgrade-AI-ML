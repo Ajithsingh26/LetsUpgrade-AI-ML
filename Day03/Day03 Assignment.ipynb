{
 "cells": [
  {
   "cell_type": "markdown",
   "metadata": {},
   "source": [
    "# ***Day 03 Assignment***"
   ]
  },
  {
   "cell_type": "markdown",
   "metadata": {},
   "source": [
    "---\n",
    "# Question 1\n"
   ]
  },
  {
   "cell_type": "code",
   "execution_count": 1,
   "metadata": {},
   "outputs": [
    {
     "name": "stdout",
     "output_type": "stream",
     "text": [
      "The subtraction of the given two complex numbers (5+1j)\n"
     ]
    }
   ],
   "source": [
    "#Question 1: A program to subtract two complex numbers\n",
    "num1 = 8+6j\n",
    "num2 = 3+5j\n",
    "SubComp = num1 - num2\n",
    "print(\"The subtraction of the given two complex numbers\",SubComp)"
   ]
  },
  {
   "cell_type": "markdown",
   "metadata": {},
   "source": [
    "---\n",
    "# Question 2"
   ]
  },
  {
   "cell_type": "code",
   "execution_count": 2,
   "metadata": {},
   "outputs": [
    {
     "name": "stdout",
     "output_type": "stream",
     "text": [
      "The fourth root of the number is 2.23606797749979\n"
     ]
    }
   ],
   "source": [
    "#Question 2: A program to find the fourth root of a number\n",
    "num1 = 25\n",
    "FourthRoot = num1**(1/4)\n",
    "print(\"The fourth root of the number is\", FourthRoot)\n"
   ]
  },
  {
   "cell_type": "markdown",
   "metadata": {},
   "source": [
    "---\n",
    "# Question 3"
   ]
  },
  {
   "cell_type": "code",
   "execution_count": 3,
   "metadata": {},
   "outputs": [
    {
     "name": "stdout",
     "output_type": "stream",
     "text": [
      "The numbers have been swapped with the help of a temporary variable and following is the result:\n",
      " 20 10\n"
     ]
    }
   ],
   "source": [
    "#Question 3: A program to swap two numbers in Python with the help of a temporary variable\n",
    "num1 = 10\n",
    "num2 = 20\n",
    "temp = num1\n",
    "num1 = num2\n",
    "num2 = temp\n",
    "print(\"The numbers have been swapped with the help of a temporary variable and following is the result:\\n\",num1, num2)"
   ]
  },
  {
   "cell_type": "markdown",
   "metadata": {},
   "source": [
    "---\n",
    "# Question 4"
   ]
  },
  {
   "cell_type": "code",
   "execution_count": 4,
   "metadata": {},
   "outputs": [
    {
     "name": "stdout",
     "output_type": "stream",
     "text": [
      "The numbers have been swapped without any temporary variable and following is the result:\n",
      " 20 10\n"
     ]
    }
   ],
   "source": [
    "#Question 4: A program to swap two numbers in Python without using a temporary variable\n",
    "num1 = 10\n",
    "num2 = 20\n",
    "num1 = num1 + num2\n",
    "num2 = num1 - num2\n",
    "num1 = num1 - num2\n",
    "print(\"The numbers have been swapped without any temporary variable and following is the result:\\n\", num1, num2)"
   ]
  },
  {
   "cell_type": "markdown",
   "metadata": {},
   "source": [
    "---\n",
    "# Question 5"
   ]
  },
  {
   "cell_type": "code",
   "execution_count": 5,
   "metadata": {},
   "outputs": [
    {
     "name": "stdout",
     "output_type": "stream",
     "text": [
      "Converted temperature in kelvin=  277.59444444444443 \n",
      "Converted temperature in celsius= 4.444444444444445\n"
     ]
    }
   ],
   "source": [
    "#Question 5:  A program to convert fahrenheit to kelvin and celsius both \n",
    "#(F − 32) × 5/9\n",
    "\n",
    "Fahren = 40\n",
    "Temp_C = (Fahren - 32) * 5 / 9\n",
    "Temp_K = Temp_C + 273.15\n",
    "print(\"Converted temperature in kelvin= \", Temp_K, \"\\nConverted temperature in celsius=\", Temp_C)\n",
    "\n"
   ]
  },
  {
   "cell_type": "markdown",
   "metadata": {},
   "source": [
    "---\n",
    "# Question 6"
   ]
  },
  {
   "cell_type": "code",
   "execution_count": 6,
   "metadata": {},
   "outputs": [
    {
     "name": "stdout",
     "output_type": "stream",
     "text": [
      "<class 'str'>\n",
      "<class 'int'>\n",
      "<class 'float'>\n",
      "<class 'complex'>\n"
     ]
    }
   ],
   "source": [
    "#Question 6: A program to demonstrate all the available data types in Python\n",
    "name = \"Bruce Wayne\"\n",
    "age = 45\n",
    "weight = 78.45 #in kg\n",
    "complx = 45+3j\n",
    "print(type(name))\n",
    "print(type(age))\n",
    "print(type(weight))\n",
    "print(type(complx))\n"
   ]
  },
  {
   "cell_type": "markdown",
   "metadata": {},
   "source": [
    "---\n",
    "# Question 7\n",
    "\n",
    "The steps discussed in the session by Dr. Darshan\n",
    "Ingle sir to create Github profile and upload Githubs Assignment link:\n",
    "\n",
    "---\n",
    "\n",
    "### Open [GitHub](www.github.com)\n",
    "\n",
    "\n",
    "## *Creating a repository*\n",
    ">- **Step 1** - Click on \"Sign Up\"\n",
    ">- **Step 2** - Complete the formalities\n",
    ">- **Step 3** - Create a new folder for the day (Example: Day 03) \n",
    ">- **Step 4** - Open a Jupyter Notebook from that folder\n",
    ">- **Step 5** - Go to GitHub and click on \"Create a new repository\"\n",
    ">- **Step 6** - Name the repository \"LetsUpgrade AI/ML\"\n",
    ">- **Step 7** - Add the description \"Assignments\"\n",
    ">- **Step 8** - Keep the remaining settings as they are and make sure to keep the repository public\n",
    ">- **Step 9** - Scroll down and click on \"Create Repository\"\n",
    "\n",
    "## *Uploading a File to the repository*\n",
    ">- **Step 1** - Go to the folder which you wish to uplaod (Day03)\n",
    ">- **Step 2** - Click and drag it to the GitHub window and drop it in the labelled area\n",
    ">- **Step 3** - The file/folder gets uploaded as soon as you drop it\n",
    ">- **Step 4** - Once it is uploaded click on \"Commit Changes\"\n",
    "\n",
    "## *Sharing and Submitting the Assignment's Link*\n",
    ">- **Step 1** - Go to home page\n",
    ">- **Step 2** - Click on repositories and Open the repository you created\n",
    ">- **Step 3** - After opening the repository open the folder \n",
    ">- **Step 4** - Copy the URL from the browser\n",
    ">- **Step 5** - Paste the link in the Assignment Submission Form provided by the LetsUpgrade Team\n",
    ">- **Step 6** - Confirm whether the URL is visible to everyone by opening the URL in an incognito window\n",
    ">- **Steo 7** - Make sure you have received a confirmation email\n",
    "\n",
    "\n"
   ]
  }
 ],
 "metadata": {
  "kernelspec": {
   "display_name": "Python 3",
   "language": "python",
   "name": "python3"
  },
  "language_info": {
   "codemirror_mode": {
    "name": "ipython",
    "version": 3
   },
   "file_extension": ".py",
   "mimetype": "text/x-python",
   "name": "python",
   "nbconvert_exporter": "python",
   "pygments_lexer": "ipython3",
   "version": "3.7.6"
  }
 },
 "nbformat": 4,
 "nbformat_minor": 4
}
