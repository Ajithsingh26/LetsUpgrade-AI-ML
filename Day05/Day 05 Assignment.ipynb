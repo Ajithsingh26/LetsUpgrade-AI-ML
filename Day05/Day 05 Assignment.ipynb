{
 "cells": [
  {
   "cell_type": "markdown",
   "metadata": {},
   "source": [
    "# *Day 05 Assignment*\n",
    "---"
   ]
  },
  {
   "cell_type": "markdown",
   "metadata": {},
   "source": [
    "## Question 1: \n",
    "- Write a Python program to find the first 20 non-even prime natural numbers."
   ]
  },
  {
   "cell_type": "code",
   "execution_count": 3,
   "metadata": {
    "scrolled": true
   },
   "outputs": [
    {
     "name": "stdout",
     "output_type": "stream",
     "text": [
      "How many prime numbers would you like to print? 20\n",
      "\n",
      "Here are the first 20 non-even prime numbers: \n",
      "\n",
      "3  5  7  11  13  17  19  23  29  31  37  41  43  47  53  59  61  67  71  73  "
     ]
    }
   ],
   "source": [
    "#Python program to find the first 20 non-even prime natural numbers\n",
    "n = int(input(\"How many prime numbers would you like to print? \"))\n",
    "nos= range(1, n*10)\n",
    "prime_nos = []\n",
    "\n",
    "for num in nos:\n",
    "    if num > 2 and len(prime_nos) <= n-1:\n",
    "        for i in range(2, num):\n",
    "            if (num % i) == 0:\n",
    "                break\n",
    "        else:\n",
    "            prime_nos.append(num)\n",
    "    \n",
    "print(\"\\nHere are the first\", n, \"non-even prime numbers: \\n\")\n",
    "for x in prime_nos:\n",
    "    print(x, end=\"  \")\n",
    "\n",
    "    \n",
    "            \n",
    "            "
   ]
  },
  {
   "cell_type": "markdown",
   "metadata": {},
   "source": [
    "---\n",
    "## Question 2:\n",
    "- Write a Python program to implement 15 functions of string.\n"
   ]
  },
  {
   "cell_type": "code",
   "execution_count": 2,
   "metadata": {},
   "outputs": [
    {
     "name": "stdout",
     "output_type": "stream",
     "text": [
      "I am 21 years old. turning 22 years  \n",
      "I AM 21 YEARS OLD. TURNING 22 YEARS  \n",
      "True\n",
      "False\n",
      "True\n",
      "False\n",
      "I AM 21 YEARS oLD. tURNING 22 YEARS  \n",
      "i am 21 years Old. Turning 22 years\n",
      "email is shaikhjunaidx@gmail.com\n",
      "['i am 21 years Old', ' Turning 22 years  ']\n",
      "I Am 21 Years Old. Turning 22 Years  \n",
      "19\n",
      "I_am_a_man\n",
      "False\n",
      "True\n"
     ]
    }
   ],
   "source": [
    "my_string = \"i am 21 years Old. Turning 22 years  \"\n",
    "my_string_2 = \"  email is shaikhjunaidx@gmail.com\"\n",
    "my_string_3 = \"abcdefghijkl\"\n",
    "list_1 = [\"I\", \"am\", \"a\", \"man\"]\n",
    "\n",
    "print(my_string.capitalize())\n",
    "\n",
    "print(my_string.upper())\n",
    "\n",
    "print(my_string_2.islower())\n",
    "\n",
    "print(my_string.isnumeric())\n",
    "\n",
    "print(my_string_3.isalpha())\n",
    "\n",
    "print(my_string.isnumeric())\n",
    "\n",
    "print(my_string.swapcase())\n",
    "\n",
    "print(my_string.rstrip())\n",
    "\n",
    "print(my_string_2.lstrip())\n",
    "\n",
    "print(my_string.split(\".\"))\n",
    "\n",
    "print(my_string.title())\n",
    "\n",
    "print(my_string.find(\"T\"))\n",
    "\n",
    "print(\"_\".join(list_1))\n",
    "\n",
    "print(my_string.startswith(\"j\"))\n",
    "\n",
    "print(my_string_3.isprintable())\n"
   ]
  },
  {
   "cell_type": "markdown",
   "metadata": {},
   "source": [
    "---\n",
    "## Question 3:\n",
    "- Write a Python program to check if the given string is a Palindrome or Anagram or None of them.\n",
    "Display the message accordingly to the user."
   ]
  },
  {
   "cell_type": "code",
   "execution_count": 7,
   "metadata": {},
   "outputs": [
    {
     "name": "stdout",
     "output_type": "stream",
     "text": [
      "Enter a string to check for Palindrome or Anagram\n",
      "madam\n",
      "\n",
      "Enter the second string for Anagram.\n",
      "**Enter 0 if you only want to check Palindrome**\n",
      "damam\n",
      "\n",
      "The two strings are anagram of each other.\n"
     ]
    }
   ],
   "source": [
    "def check(str1, str2):\n",
    "    \n",
    "    if str2 == \"0\":\n",
    "        if str1 == str1[::-1]:\n",
    "            print(\"\\nThe given string is a palindrome.\")\n",
    "        else:\n",
    "            print(\"\\nThe given string is not a palindrome.\")\n",
    "            \n",
    "    elif str2 != \"0\":\n",
    "        if sorted(str1) == sorted(str2):\n",
    "            print(\"\\nThe two strings are anagram of each other.\")\n",
    "        else:\n",
    "            print(\"\\nThe two strings are not an anagram of each other.\")\n",
    "            \n",
    "    else:\n",
    "        print(\"\\nThe given string(s) is neither a Palindrome nor make an Anagram.\")\n",
    "\n",
    "\n",
    "given_str1 = input(\"Enter a string to check for Palindrome or Anagram\\n\")\n",
    "given_str2 = input(\"\\nEnter the second string for Anagram.\\n**Enter 0 if you only want to check Palindrome**\\n\")\n",
    "\n",
    "check(given_str1, given_str2)"
   ]
  },
  {
   "cell_type": "markdown",
   "metadata": {},
   "source": [
    "---\n",
    "## Question 4:\n",
    "- Write a Python's user defined function that removes all the additional characters from the string\n",
    "and converts it finally to lower case using built-in lower(). eg: If the string is \"Dr. Darshan Ingle\n",
    "@AI-ML Trainer\", then the output be \"drdarshaningleaimltrainer\"."
   ]
  },
  {
   "cell_type": "code",
   "execution_count": 12,
   "metadata": {},
   "outputs": [
    {
     "name": "stdout",
     "output_type": "stream",
     "text": [
      "junaidshaikh"
     ]
    }
   ],
   "source": [
    "def remove_char(string):\n",
    "    string = string.lower().replace(\" \", \"\")\n",
    "    for i in string:\n",
    "        if i.isalpha():\n",
    "            print(i, end=\"\")\n",
    "    \n",
    "remove_char(\"jun@aid.__38  $ShA!ikH090\")\n",
    "    "
   ]
  }
 ],
 "metadata": {
  "kernelspec": {
   "display_name": "Python 3",
   "language": "python",
   "name": "python3"
  },
  "language_info": {
   "codemirror_mode": {
    "name": "ipython",
    "version": 3
   },
   "file_extension": ".py",
   "mimetype": "text/x-python",
   "name": "python",
   "nbconvert_exporter": "python",
   "pygments_lexer": "ipython3",
   "version": "3.7.6"
  }
 },
 "nbformat": 4,
 "nbformat_minor": 4
}
