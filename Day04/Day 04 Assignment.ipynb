{
 "cells": [
  {
   "cell_type": "markdown",
   "metadata": {},
   "source": [
    "# *Day 04 Assignment*"
   ]
  },
  {
   "cell_type": "markdown",
   "metadata": {},
   "source": [
    "---\n",
    "# Question 1"
   ]
  },
  {
   "cell_type": "code",
   "execution_count": 49,
   "metadata": {},
   "outputs": [
    {
     "name": "stdout",
     "output_type": "stream",
     "text": [
      "Addition of the comlpex numbers, 8+5j and 9+2j is (17+7j)\n",
      "\n",
      "Subtraction of the comlpex numbers, 8+5j and 9+2j is (-1+3j)\n",
      "\n",
      "Multiplication of the comlpex numbers, 8+5j and 9+2j is (62+61j)\n",
      "\n",
      "Division of the comlpex numbers, 8+5j and 9+2j is (0.9647058823529411+0.3411764705882353j)\n",
      "\n",
      "Floor division and modulo division of complex numbers is not possible\n"
     ]
    }
   ],
   "source": [
    "#Defining complex numbers\n",
    "num1 = 8 +  5j\n",
    "num2 = 9 + 2j\n",
    "#Addition of complex number:\n",
    "print(\"Addition of the comlpex numbers, 8+5j and 9+2j is\", num1 + num2)\n",
    "print(\"\\nSubtraction of the comlpex numbers, 8+5j and 9+2j is\", num1 - num2)\n",
    "print(\"\\nMultiplication of the comlpex numbers, 8+5j and 9+2j is\", num1 * num2)\n",
    "print(\"\\nDivision of the comlpex numbers, 8+5j and 9+2j is\", num1 / num2)\n",
    "print(\"\\nFloor division and modulo division of complex numbers is not possible\")\n",
    "\n",
    "\n"
   ]
  },
  {
   "cell_type": "markdown",
   "metadata": {},
   "source": [
    "---\n",
    "# Question 2"
   ]
  },
  {
   "cell_type": "markdown",
   "metadata": {},
   "source": [
    "# Range()\n",
    "\n",
    "- The range() returns a list or sequence of numbers\n",
    "- The range() function can be represented in three different ways\n",
    ">- 1. range(stop_value) *considers the starting point as zero*\n",
    ">- 2. range(start_value, stop_value) .*generates the sequence based on the start and stop value*\n",
    ">- 3. range(start_value, stop_value, step_size) *generates the sequence by incrementing the start value using the step size until it reaches the stop value*\n",
    "\n"
   ]
  },
  {
   "cell_type": "code",
   "execution_count": 2,
   "metadata": {},
   "outputs": [
    {
     "name": "stdout",
     "output_type": "stream",
     "text": [
      "0\n",
      "1\n",
      "2\n",
      "3\n",
      "4\n",
      "5\n",
      "6\n",
      "7\n",
      "8\n",
      "9\n"
     ]
    }
   ],
   "source": [
    "#Type 1:\n",
    "x = range(10)\n",
    "\n",
    "for i in x:\n",
    "    print(i)"
   ]
  },
  {
   "cell_type": "code",
   "execution_count": 3,
   "metadata": {},
   "outputs": [
    {
     "name": "stdout",
     "output_type": "stream",
     "text": [
      "1\n",
      "2\n",
      "3\n",
      "4\n",
      "5\n",
      "6\n",
      "7\n",
      "8\n",
      "9\n",
      "10\n"
     ]
    }
   ],
   "source": [
    "#Type 2:\n",
    "x = range(1,11)\n",
    "\n",
    "for i in x:\n",
    "    print(i)"
   ]
  },
  {
   "cell_type": "code",
   "execution_count": 5,
   "metadata": {},
   "outputs": [
    {
     "name": "stdout",
     "output_type": "stream",
     "text": [
      "10\n",
      "20\n",
      "30\n",
      "40\n",
      "50\n",
      "60\n",
      "70\n",
      "80\n",
      "90\n"
     ]
    }
   ],
   "source": [
    "#Type 3:\n",
    "x = range(10, 100, 10)\n",
    "\n",
    "for i in x:\n",
    "    print(i)"
   ]
  },
  {
   "cell_type": "markdown",
   "metadata": {},
   "source": [
    "---\n",
    "# Question 3\n",
    "- *Consider two numbers. Perform their subtraction and if the result of subtraction is greater than\n",
    "25, print their multiplication result else print their division result.*"
   ]
  },
  {
   "cell_type": "code",
   "execution_count": 16,
   "metadata": {},
   "outputs": [
    {
     "name": "stdout",
     "output_type": "stream",
     "text": [
      "2.0\n"
     ]
    }
   ],
   "source": [
    "num1 = 10\n",
    "num2 = 5\n",
    "result = num1 - num2\n",
    "if result > 25:\n",
    "    print(num1*num2)\n",
    "else:\n",
    "    print(num1/num2)"
   ]
  },
  {
   "cell_type": "markdown",
   "metadata": {},
   "source": [
    "---\n",
    "# Question 4\n",
    "- Consider a list of 10 elements of integer values. If the number in the list is divisible by 2, print the\n",
    "result as \"square of that number minus 2\"."
   ]
  },
  {
   "cell_type": "code",
   "execution_count": 53,
   "metadata": {},
   "outputs": [
    {
     "name": "stdout",
     "output_type": "stream",
     "text": [
      "2\n",
      "14\n",
      "34\n",
      "62\n",
      "98\n"
     ]
    }
   ],
   "source": [
    "list = range(1,11)\n",
    "for k in list:\n",
    "    if k % 2 == 0:\n",
    "        print( (k ** 2) - 2)\n"
   ]
  },
  {
   "cell_type": "markdown",
   "metadata": {},
   "source": [
    "# Question 5:\n",
    "- Consider a list of 10 elements. Print all the elements in the list which are greater than 7 when that\n",
    "number is divided 2."
   ]
  },
  {
   "cell_type": "code",
   "execution_count": 48,
   "metadata": {},
   "outputs": [
    {
     "name": "stdout",
     "output_type": "stream",
     "text": [
      "20\n",
      "30\n",
      "40\n",
      "50\n",
      "60\n",
      "70\n",
      "80\n",
      "90\n",
      "100\n"
     ]
    }
   ],
   "source": [
    "list = range(10, 110, 10)\n",
    "for i in list:\n",
    "    if i/2 > 7:\n",
    "        print(i)\n"
   ]
  }
 ],
 "metadata": {
  "kernelspec": {
   "display_name": "Python 3",
   "language": "python",
   "name": "python3"
  },
  "language_info": {
   "codemirror_mode": {
    "name": "ipython",
    "version": 3
   },
   "file_extension": ".py",
   "mimetype": "text/x-python",
   "name": "python",
   "nbconvert_exporter": "python",
   "pygments_lexer": "ipython3",
   "version": "3.7.6"
  }
 },
 "nbformat": 4,
 "nbformat_minor": 4
}
